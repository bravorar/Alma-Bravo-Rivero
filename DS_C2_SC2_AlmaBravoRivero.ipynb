{
  "nbformat": 4,
  "nbformat_minor": 0,
  "metadata": {
    "colab": {
      "provenance": []
    },
    "kernelspec": {
      "name": "python3",
      "display_name": "Python 3"
    },
    "language_info": {
      "name": "python"
    }
  },
  "cells": [
    {
      "cell_type": "markdown",
      "source": [
        "Se carga el archivo **vaccinations.csv** en un DataFrame de la librería pandas. Se muestran las filas, columnas y los tipos de datos en el DataFrame.  "
      ],
      "metadata": {
        "id": "V0cXW6mPEXjn"
      }
    },
    {
      "cell_type": "code",
      "execution_count": 2,
      "metadata": {
        "colab": {
          "base_uri": "https://localhost:8080/"
        },
        "id": "SuH4OUAljA6c",
        "outputId": "c1303ea2-9c33-4d2e-8b34-1371a20ebaa1"
      },
      "outputs": [
        {
          "output_type": "stream",
          "name": "stdout",
          "text": [
            "       country iso_code        date  total_vaccinations  people_vaccinated  \\\n",
            "0  Afghanistan      AFG  2021-02-22                 0.0                0.0   \n",
            "1  Afghanistan      AFG  2021-02-23                 NaN                NaN   \n",
            "2  Afghanistan      AFG  2021-02-24                 NaN                NaN   \n",
            "3  Afghanistan      AFG  2021-02-25                 NaN                NaN   \n",
            "4  Afghanistan      AFG  2021-02-26                 NaN                NaN   \n",
            "\n",
            "   people_fully_vaccinated  daily_vaccinations_raw  daily_vaccinations  \\\n",
            "0                      NaN                     NaN                 NaN   \n",
            "1                      NaN                     NaN              1367.0   \n",
            "2                      NaN                     NaN              1367.0   \n",
            "3                      NaN                     NaN              1367.0   \n",
            "4                      NaN                     NaN              1367.0   \n",
            "\n",
            "   total_vaccinations_per_hundred  people_vaccinated_per_hundred  \\\n",
            "0                             0.0                            0.0   \n",
            "1                             NaN                            NaN   \n",
            "2                             NaN                            NaN   \n",
            "3                             NaN                            NaN   \n",
            "4                             NaN                            NaN   \n",
            "\n",
            "   people_fully_vaccinated_per_hundred  daily_vaccinations_per_million  \\\n",
            "0                                  NaN                             NaN   \n",
            "1                                  NaN                            34.0   \n",
            "2                                  NaN                            34.0   \n",
            "3                                  NaN                            34.0   \n",
            "4                                  NaN                            34.0   \n",
            "\n",
            "                                            vaccines  \\\n",
            "0  Johnson&Johnson, Oxford/AstraZeneca, Pfizer/Bi...   \n",
            "1  Johnson&Johnson, Oxford/AstraZeneca, Pfizer/Bi...   \n",
            "2  Johnson&Johnson, Oxford/AstraZeneca, Pfizer/Bi...   \n",
            "3  Johnson&Johnson, Oxford/AstraZeneca, Pfizer/Bi...   \n",
            "4  Johnson&Johnson, Oxford/AstraZeneca, Pfizer/Bi...   \n",
            "\n",
            "                 source_name            source_website  \n",
            "0  World Health Organization  https://covid19.who.int/  \n",
            "1  World Health Organization  https://covid19.who.int/  \n",
            "2  World Health Organization  https://covid19.who.int/  \n",
            "3  World Health Organization  https://covid19.who.int/  \n",
            "4  World Health Organization  https://covid19.who.int/  \n",
            "<class 'pandas.core.frame.DataFrame'>\n",
            "RangeIndex: 86512 entries, 0 to 86511\n",
            "Data columns (total 15 columns):\n",
            " #   Column                               Non-Null Count  Dtype  \n",
            "---  ------                               --------------  -----  \n",
            " 0   country                              86512 non-null  object \n",
            " 1   iso_code                             86512 non-null  object \n",
            " 2   date                                 86512 non-null  object \n",
            " 3   total_vaccinations                   43607 non-null  float64\n",
            " 4   people_vaccinated                    41294 non-null  float64\n",
            " 5   people_fully_vaccinated              38802 non-null  float64\n",
            " 6   daily_vaccinations_raw               35362 non-null  float64\n",
            " 7   daily_vaccinations                   86213 non-null  float64\n",
            " 8   total_vaccinations_per_hundred       43607 non-null  float64\n",
            " 9   people_vaccinated_per_hundred        41294 non-null  float64\n",
            " 10  people_fully_vaccinated_per_hundred  38802 non-null  float64\n",
            " 11  daily_vaccinations_per_million       86213 non-null  float64\n",
            " 12  vaccines                             86512 non-null  object \n",
            " 13  source_name                          86512 non-null  object \n",
            " 14  source_website                       86512 non-null  object \n",
            "dtypes: float64(9), object(6)\n",
            "memory usage: 9.9+ MB\n",
            "None\n"
          ]
        }
      ],
      "source": [
        "import pandas as pd\n",
        "\n",
        "df = pd.read_csv('vaccinations.csv')\n",
        "\n",
        "print(df.head())\n",
        "\n",
        "print(df.info())"
      ]
    },
    {
      "cell_type": "markdown",
      "source": [
        "Se convierte la columna de fechas en el tipo **datetime64**. Se muestran los datos en un DataFrame."
      ],
      "metadata": {
        "id": "ilev5v9hP5E6"
      }
    },
    {
      "cell_type": "code",
      "source": [
        "df['date'] = pd.to_datetime(df['date'])\n",
        "\n",
        "print(df.dtypes)\n",
        "\n",
        "print(df.info())"
      ],
      "metadata": {
        "colab": {
          "base_uri": "https://localhost:8080/"
        },
        "id": "MAlK3b554-Me",
        "outputId": "5c310d8e-c154-4255-f1bb-68508b7a2c43"
      },
      "execution_count": 4,
      "outputs": [
        {
          "output_type": "stream",
          "name": "stdout",
          "text": [
            "country                                        object\n",
            "iso_code                                       object\n",
            "date                                   datetime64[ns]\n",
            "total_vaccinations                            float64\n",
            "people_vaccinated                             float64\n",
            "people_fully_vaccinated                       float64\n",
            "daily_vaccinations_raw                        float64\n",
            "daily_vaccinations                            float64\n",
            "total_vaccinations_per_hundred                float64\n",
            "people_vaccinated_per_hundred                 float64\n",
            "people_fully_vaccinated_per_hundred           float64\n",
            "daily_vaccinations_per_million                float64\n",
            "vaccines                                       object\n",
            "source_name                                    object\n",
            "source_website                                 object\n",
            "dtype: object\n",
            "<class 'pandas.core.frame.DataFrame'>\n",
            "RangeIndex: 86512 entries, 0 to 86511\n",
            "Data columns (total 15 columns):\n",
            " #   Column                               Non-Null Count  Dtype         \n",
            "---  ------                               --------------  -----         \n",
            " 0   country                              86512 non-null  object        \n",
            " 1   iso_code                             86512 non-null  object        \n",
            " 2   date                                 86512 non-null  datetime64[ns]\n",
            " 3   total_vaccinations                   43607 non-null  float64       \n",
            " 4   people_vaccinated                    41294 non-null  float64       \n",
            " 5   people_fully_vaccinated              38802 non-null  float64       \n",
            " 6   daily_vaccinations_raw               35362 non-null  float64       \n",
            " 7   daily_vaccinations                   86213 non-null  float64       \n",
            " 8   total_vaccinations_per_hundred       43607 non-null  float64       \n",
            " 9   people_vaccinated_per_hundred        41294 non-null  float64       \n",
            " 10  people_fully_vaccinated_per_hundred  38802 non-null  float64       \n",
            " 11  daily_vaccinations_per_million       86213 non-null  float64       \n",
            " 12  vaccines                             86512 non-null  object        \n",
            " 13  source_name                          86512 non-null  object        \n",
            " 14  source_website                       86512 non-null  object        \n",
            "dtypes: datetime64[ns](1), float64(9), object(5)\n",
            "memory usage: 9.9+ MB\n",
            "None\n"
          ]
        }
      ]
    },
    {
      "cell_type": "markdown",
      "source": [
        "Se agrupan los datos de las combinaciones de vacunas aplicadas. Se calcula la suma del total de vacunaciones para cada combinación y se ordenan los resultados de mayor a menor."
      ],
      "metadata": {
        "id": "fV8zqvXPSdXR"
      }
    },
    {
      "cell_type": "code",
      "source": [
        "vaccines_summary = data.groupby('vaccines')['total_vaccinations'].sum()\n",
        "\n",
        "vaccines_summary = vaccines_summary.sort_values(ascending=False)\n",
        "\n",
        "print(vaccines_summary)\n"
      ],
      "metadata": {
        "colab": {
          "base_uri": "https://localhost:8080/"
        },
        "id": "zcKHaBCK5rUs",
        "outputId": "20d65e03-4d66-4270-dcef-e199b0aa4915"
      },
      "execution_count": 5,
      "outputs": [
        {
          "output_type": "stream",
          "name": "stdout",
          "text": [
            "vaccines\n",
            "CanSino, Sinopharm/Beijing, Sinopharm/Wuhan, Sinovac, ZF2001     7.094527e+11\n",
            "Covaxin, Oxford/AstraZeneca, Sputnik V                           3.234403e+11\n",
            "Johnson&Johnson, Moderna, Pfizer/BioNTech                        1.617576e+11\n",
            "Moderna, Oxford/AstraZeneca, Pfizer/BioNTech                     1.153913e+11\n",
            "Johnson&Johnson, Moderna, Oxford/AstraZeneca, Pfizer/BioNTech    9.962579e+10\n",
            "                                                                     ...     \n",
            "Pfizer/BioNTech, Sinopharm/Beijing, Sputnik V                    6.915494e+06\n",
            "Oxford/AstraZeneca, Pfizer/BioNTech, Sputnik V                   6.840405e+06\n",
            "Moderna                                                          6.531798e+06\n",
            "Johnson&Johnson, Moderna                                         4.984467e+06\n",
            "Pfizer/BioNTech, Sputnik V                                       3.863380e+06\n",
            "Name: total_vaccinations, Length: 84, dtype: float64\n"
          ]
        }
      ]
    },
    {
      "cell_type": "markdown",
      "source": [
        "Se calcula el total de vacunas aplicadas en todo el mundo sumando los valores de la columna **total_vaccinations**."
      ],
      "metadata": {
        "id": "1s-_J52wSqBu"
      }
    },
    {
      "cell_type": "code",
      "source": [
        "total_vaccines_applied = data['total_vaccinations'].sum()\n",
        "print(f\"Cantidad de vacunas aplicadas en todo el mundo: {total_vaccines_applied}\")\n"
      ],
      "metadata": {
        "colab": {
          "base_uri": "https://localhost:8080/"
        },
        "id": "M3sQX5U27tUK",
        "outputId": "59076950-1002-48a9-bc5c-96d91bef6ff9"
      },
      "execution_count": 8,
      "outputs": [
        {
          "output_type": "stream",
          "name": "stdout",
          "text": [
            "Cantidad de vacunas aplicadas en todo el mundo: 2002854013761.0\n"
          ]
        }
      ]
    },
    {
      "cell_type": "markdown",
      "source": [
        "Se calcula el promedio de vacunas aplicadas por país y se ordenan los resultados alfabéticamente por el nombre del país."
      ],
      "metadata": {
        "id": "T2kkV-x0TDaL"
      }
    },
    {
      "cell_type": "code",
      "source": [
        "average_vaccines_by_country = data.groupby('country')['total_vaccinations'].mean()\n",
        "average_vaccines_by_country_sorted = average_vaccines_by_country.sort_index()\n",
        "print(average_vaccines_by_country_sorted)\n"
      ],
      "metadata": {
        "colab": {
          "base_uri": "https://localhost:8080/"
        },
        "id": "0xN6sSHH8ncW",
        "outputId": "b3ba883f-54fe-4bc7-bd39-2f502062e7dd"
      },
      "execution_count": 10,
      "outputs": [
        {
          "output_type": "stream",
          "name": "stdout",
          "text": [
            "country\n",
            "Afghanistan          2.566118e+06\n",
            "Albania              1.191695e+06\n",
            "Algeria              9.956086e+06\n",
            "Andorra              5.827721e+04\n",
            "Angola               6.074066e+06\n",
            "                         ...     \n",
            "Wales                4.132861e+06\n",
            "Wallis and Futuna    9.142925e+03\n",
            "Yemen                4.794049e+05\n",
            "Zambia               1.048484e+06\n",
            "Zimbabwe             4.181618e+06\n",
            "Name: total_vaccinations, Length: 223, dtype: float64\n"
          ]
        }
      ]
    },
    {
      "cell_type": "markdown",
      "source": [
        "Se filtran los datos del **29 de enero del 2021** y se calcula el total de vacunas aplicadas en todo el mundo en esa fecha."
      ],
      "metadata": {
        "id": "hmQ8gSe0TWgm"
      }
    },
    {
      "cell_type": "code",
      "source": [
        "vaccines_on_date = data[data['date'] == '2021-01-29']\n",
        "total_vaccines_on_date = vaccines_on_date['total_vaccinations'].sum()\n",
        "print(f\"Cantidad de vacunas aplicadas el día 29/01/2021 en todo el mundo: {total_vaccines_on_date}\")\n"
      ],
      "metadata": {
        "colab": {
          "base_uri": "https://localhost:8080/"
        },
        "id": "YuqLy0Zz9e3M",
        "outputId": "7e66a656-b236-46b9-8b40-f9f99dc06bea"
      },
      "execution_count": 12,
      "outputs": [
        {
          "output_type": "stream",
          "name": "stdout",
          "text": [
            "Cantidad de vacunas aplicadas el día 29/01/2021 en todo el mundo: 82952931.0\n"
          ]
        }
      ]
    },
    {
      "cell_type": "markdown",
      "source": [
        "Se crea un nuevo DataFrame con una columna adicional llamada **diferencias** que calcula la diferencia entre las vacunaciones reportadas diarias **(daily_vaccionations)** y las vacunaciones sin procesar **(daily_vaccionations_raw)**."
      ],
      "metadata": {
        "id": "ypqG4jkXTtaw"
      }
    },
    {
      "cell_type": "code",
      "source": [
        "conDiferencias = data.copy()\n",
        "conDiferencias['diferencias'] = conDiferencias['daily_vaccinations'] - conDiferencias['daily_vaccinations_raw']\n",
        "print(conDiferencias.head())\n"
      ],
      "metadata": {
        "colab": {
          "base_uri": "https://localhost:8080/"
        },
        "id": "63zRl_E_9unx",
        "outputId": "ae814c8b-5949-4ae3-e364-bca6f937ecb4"
      },
      "execution_count": 13,
      "outputs": [
        {
          "output_type": "stream",
          "name": "stdout",
          "text": [
            "       country iso_code       date  total_vaccinations  people_vaccinated  \\\n",
            "0  Afghanistan      AFG 2021-02-22                 0.0                0.0   \n",
            "1  Afghanistan      AFG 2021-02-23                 NaN                NaN   \n",
            "2  Afghanistan      AFG 2021-02-24                 NaN                NaN   \n",
            "3  Afghanistan      AFG 2021-02-25                 NaN                NaN   \n",
            "4  Afghanistan      AFG 2021-02-26                 NaN                NaN   \n",
            "\n",
            "   people_fully_vaccinated  daily_vaccinations_raw  daily_vaccinations  \\\n",
            "0                      NaN                     NaN                 NaN   \n",
            "1                      NaN                     NaN              1367.0   \n",
            "2                      NaN                     NaN              1367.0   \n",
            "3                      NaN                     NaN              1367.0   \n",
            "4                      NaN                     NaN              1367.0   \n",
            "\n",
            "   total_vaccinations_per_hundred  people_vaccinated_per_hundred  \\\n",
            "0                             0.0                            0.0   \n",
            "1                             NaN                            NaN   \n",
            "2                             NaN                            NaN   \n",
            "3                             NaN                            NaN   \n",
            "4                             NaN                            NaN   \n",
            "\n",
            "   people_fully_vaccinated_per_hundred  daily_vaccinations_per_million  \\\n",
            "0                                  NaN                             NaN   \n",
            "1                                  NaN                            34.0   \n",
            "2                                  NaN                            34.0   \n",
            "3                                  NaN                            34.0   \n",
            "4                                  NaN                            34.0   \n",
            "\n",
            "                                            vaccines  \\\n",
            "0  Johnson&Johnson, Oxford/AstraZeneca, Pfizer/Bi...   \n",
            "1  Johnson&Johnson, Oxford/AstraZeneca, Pfizer/Bi...   \n",
            "2  Johnson&Johnson, Oxford/AstraZeneca, Pfizer/Bi...   \n",
            "3  Johnson&Johnson, Oxford/AstraZeneca, Pfizer/Bi...   \n",
            "4  Johnson&Johnson, Oxford/AstraZeneca, Pfizer/Bi...   \n",
            "\n",
            "                 source_name            source_website  diferencias  \n",
            "0  World Health Organization  https://covid19.who.int/          NaN  \n",
            "1  World Health Organization  https://covid19.who.int/          NaN  \n",
            "2  World Health Organization  https://covid19.who.int/          NaN  \n",
            "3  World Health Organization  https://covid19.who.int/          NaN  \n",
            "4  World Health Organization  https://covid19.who.int/          NaN  \n"
          ]
        }
      ]
    },
    {
      "cell_type": "markdown",
      "source": [
        "Se identifica la fecha más reciente y la más antigua; se calcula el periodo de tiempo entre ambas fechas."
      ],
      "metadata": {
        "id": "EYxXnFA2VULr"
      }
    },
    {
      "cell_type": "code",
      "source": [
        "fecha_mas_reciente = data['date'].max()\n",
        "fecha_mas_antigua = data['date'].min()\n",
        "\n",
        "periodo_tiempo = fecha_mas_reciente - fecha_mas_antigua\n",
        "\n",
        "print(f\"Fecha más reciente: {fecha_mas_reciente}\")\n",
        "print(f\"Fecha más antigua: {fecha_mas_antigua}\")\n",
        "print(f\"Periodo de tiempo: {periodo_tiempo}\")\n"
      ],
      "metadata": {
        "colab": {
          "base_uri": "https://localhost:8080/"
        },
        "id": "e_H7wmD2-nH9",
        "outputId": "ab110588-2748-474c-89be-7a0de66d5812"
      },
      "execution_count": 14,
      "outputs": [
        {
          "output_type": "stream",
          "name": "stdout",
          "text": [
            "Fecha más reciente: 2022-03-29 00:00:00\n",
            "Fecha más antigua: 2020-12-02 00:00:00\n",
            "Periodo de tiempo: 482 days 00:00:00\n"
          ]
        }
      ]
    },
    {
      "cell_type": "markdown",
      "source": [
        "Se crea un nuevo DataFrame que incluye una nueva columna llamada **canVac**, que indica la cantidad de tipos de vacunas utilizas en cada registro con base en la columna **vaccines**."
      ],
      "metadata": {
        "id": "ajC5uQiBotXG"
      }
    },
    {
      "cell_type": "code",
      "source": [
        "conCantidad = data.copy()\n",
        "conCantidad['canVac'] = conCantidad['vaccines'].apply(lambda x: len(x.split(',')))\n",
        "print(conCantidad.head())\n"
      ],
      "metadata": {
        "colab": {
          "base_uri": "https://localhost:8080/"
        },
        "id": "kFLSuxBT-vvx",
        "outputId": "e561bef8-a853-46a3-8db7-1860ae4feb6f"
      },
      "execution_count": 15,
      "outputs": [
        {
          "output_type": "stream",
          "name": "stdout",
          "text": [
            "       country iso_code       date  total_vaccinations  people_vaccinated  \\\n",
            "0  Afghanistan      AFG 2021-02-22                 0.0                0.0   \n",
            "1  Afghanistan      AFG 2021-02-23                 NaN                NaN   \n",
            "2  Afghanistan      AFG 2021-02-24                 NaN                NaN   \n",
            "3  Afghanistan      AFG 2021-02-25                 NaN                NaN   \n",
            "4  Afghanistan      AFG 2021-02-26                 NaN                NaN   \n",
            "\n",
            "   people_fully_vaccinated  daily_vaccinations_raw  daily_vaccinations  \\\n",
            "0                      NaN                     NaN                 NaN   \n",
            "1                      NaN                     NaN              1367.0   \n",
            "2                      NaN                     NaN              1367.0   \n",
            "3                      NaN                     NaN              1367.0   \n",
            "4                      NaN                     NaN              1367.0   \n",
            "\n",
            "   total_vaccinations_per_hundred  people_vaccinated_per_hundred  \\\n",
            "0                             0.0                            0.0   \n",
            "1                             NaN                            NaN   \n",
            "2                             NaN                            NaN   \n",
            "3                             NaN                            NaN   \n",
            "4                             NaN                            NaN   \n",
            "\n",
            "   people_fully_vaccinated_per_hundred  daily_vaccinations_per_million  \\\n",
            "0                                  NaN                             NaN   \n",
            "1                                  NaN                            34.0   \n",
            "2                                  NaN                            34.0   \n",
            "3                                  NaN                            34.0   \n",
            "4                                  NaN                            34.0   \n",
            "\n",
            "                                            vaccines  \\\n",
            "0  Johnson&Johnson, Oxford/AstraZeneca, Pfizer/Bi...   \n",
            "1  Johnson&Johnson, Oxford/AstraZeneca, Pfizer/Bi...   \n",
            "2  Johnson&Johnson, Oxford/AstraZeneca, Pfizer/Bi...   \n",
            "3  Johnson&Johnson, Oxford/AstraZeneca, Pfizer/Bi...   \n",
            "4  Johnson&Johnson, Oxford/AstraZeneca, Pfizer/Bi...   \n",
            "\n",
            "                 source_name            source_website  canVac  \n",
            "0  World Health Organization  https://covid19.who.int/       4  \n",
            "1  World Health Organization  https://covid19.who.int/       4  \n",
            "2  World Health Organization  https://covid19.who.int/       4  \n",
            "3  World Health Organization  https://covid19.who.int/       4  \n",
            "4  World Health Organization  https://covid19.who.int/       4  \n"
          ]
        }
      ]
    },
    {
      "cell_type": "markdown",
      "source": [
        "Se incluyen los registros de las fechas anteriores al 20 de diciembre de 2020."
      ],
      "metadata": {
        "id": "l-ZvZX0VpHmS"
      }
    },
    {
      "cell_type": "code",
      "source": [
        "antes20 = data[data['date'] < '2020-12-20']\n",
        "\n",
        "print(antes20.head())\n"
      ],
      "metadata": {
        "colab": {
          "base_uri": "https://localhost:8080/"
        },
        "id": "SuCfcZgM_Mdx",
        "outputId": "630ebe43-e805-4dc7-c010-45f81d2a4106"
      },
      "execution_count": 16,
      "outputs": [
        {
          "output_type": "stream",
          "name": "stdout",
          "text": [
            "      country iso_code       date  total_vaccinations  people_vaccinated  \\\n",
            "13403  Canada      CAN 2020-12-14                 5.0                5.0   \n",
            "13404  Canada      CAN 2020-12-15               727.0              727.0   \n",
            "13405  Canada      CAN 2020-12-16              3025.0             3025.0   \n",
            "13406  Canada      CAN 2020-12-17              7279.0             7279.0   \n",
            "13407  Canada      CAN 2020-12-18             11296.0            11296.0   \n",
            "\n",
            "       people_fully_vaccinated  daily_vaccinations_raw  daily_vaccinations  \\\n",
            "13403                      NaN                     NaN                 NaN   \n",
            "13404                      NaN                   722.0               722.0   \n",
            "13405                      NaN                  2298.0              1510.0   \n",
            "13406                      NaN                  4254.0              2425.0   \n",
            "13407                      NaN                  4017.0              2823.0   \n",
            "\n",
            "       total_vaccinations_per_hundred  people_vaccinated_per_hundred  \\\n",
            "13403                            0.00                           0.00   \n",
            "13404                            0.00                           0.00   \n",
            "13405                            0.01                           0.01   \n",
            "13406                            0.02                           0.02   \n",
            "13407                            0.03                           0.03   \n",
            "\n",
            "       people_fully_vaccinated_per_hundred  daily_vaccinations_per_million  \\\n",
            "13403                                  NaN                             NaN   \n",
            "13404                                  NaN                            19.0   \n",
            "13405                                  NaN                            40.0   \n",
            "13406                                  NaN                            64.0   \n",
            "13407                                  NaN                            74.0   \n",
            "\n",
            "                                                vaccines  \\\n",
            "13403  Johnson&Johnson, Moderna, Oxford/AstraZeneca, ...   \n",
            "13404  Johnson&Johnson, Moderna, Oxford/AstraZeneca, ...   \n",
            "13405  Johnson&Johnson, Moderna, Oxford/AstraZeneca, ...   \n",
            "13406  Johnson&Johnson, Moderna, Oxford/AstraZeneca, ...   \n",
            "13407  Johnson&Johnson, Moderna, Oxford/AstraZeneca, ...   \n",
            "\n",
            "                                             source_name  \\\n",
            "13403  Official data from provinces via covid19tracke...   \n",
            "13404  Official data from provinces via covid19tracke...   \n",
            "13405  Official data from provinces via covid19tracke...   \n",
            "13406  Official data from provinces via covid19tracke...   \n",
            "13407  Official data from provinces via covid19tracke...   \n",
            "\n",
            "                                          source_website  \n",
            "13403  https://covid19tracker.ca/vaccinationtracker.html  \n",
            "13404  https://covid19tracker.ca/vaccinationtracker.html  \n",
            "13405  https://covid19tracker.ca/vaccinationtracker.html  \n",
            "13406  https://covid19tracker.ca/vaccinationtracker.html  \n",
            "13407  https://covid19tracker.ca/vaccinationtracker.html  \n"
          ]
        }
      ]
    },
    {
      "cell_type": "markdown",
      "source": [
        "Se filtran los registros que contienen la vacuna **Pfizer**."
      ],
      "metadata": {
        "id": "QSaPb6H6pbn0"
      }
    },
    {
      "cell_type": "code",
      "source": [
        "pfizer = data[data['vaccines'].str.contains('Pfizer', case=False, na=False)]\n",
        "\n",
        "print(pfizer.head())\n"
      ],
      "metadata": {
        "colab": {
          "base_uri": "https://localhost:8080/"
        },
        "id": "KaJsT7HI_iMr",
        "outputId": "e2734bad-84e2-434c-96d5-50485c2703d9"
      },
      "execution_count": 17,
      "outputs": [
        {
          "output_type": "stream",
          "name": "stdout",
          "text": [
            "       country iso_code       date  total_vaccinations  people_vaccinated  \\\n",
            "0  Afghanistan      AFG 2021-02-22                 0.0                0.0   \n",
            "1  Afghanistan      AFG 2021-02-23                 NaN                NaN   \n",
            "2  Afghanistan      AFG 2021-02-24                 NaN                NaN   \n",
            "3  Afghanistan      AFG 2021-02-25                 NaN                NaN   \n",
            "4  Afghanistan      AFG 2021-02-26                 NaN                NaN   \n",
            "\n",
            "   people_fully_vaccinated  daily_vaccinations_raw  daily_vaccinations  \\\n",
            "0                      NaN                     NaN                 NaN   \n",
            "1                      NaN                     NaN              1367.0   \n",
            "2                      NaN                     NaN              1367.0   \n",
            "3                      NaN                     NaN              1367.0   \n",
            "4                      NaN                     NaN              1367.0   \n",
            "\n",
            "   total_vaccinations_per_hundred  people_vaccinated_per_hundred  \\\n",
            "0                             0.0                            0.0   \n",
            "1                             NaN                            NaN   \n",
            "2                             NaN                            NaN   \n",
            "3                             NaN                            NaN   \n",
            "4                             NaN                            NaN   \n",
            "\n",
            "   people_fully_vaccinated_per_hundred  daily_vaccinations_per_million  \\\n",
            "0                                  NaN                             NaN   \n",
            "1                                  NaN                            34.0   \n",
            "2                                  NaN                            34.0   \n",
            "3                                  NaN                            34.0   \n",
            "4                                  NaN                            34.0   \n",
            "\n",
            "                                            vaccines  \\\n",
            "0  Johnson&Johnson, Oxford/AstraZeneca, Pfizer/Bi...   \n",
            "1  Johnson&Johnson, Oxford/AstraZeneca, Pfizer/Bi...   \n",
            "2  Johnson&Johnson, Oxford/AstraZeneca, Pfizer/Bi...   \n",
            "3  Johnson&Johnson, Oxford/AstraZeneca, Pfizer/Bi...   \n",
            "4  Johnson&Johnson, Oxford/AstraZeneca, Pfizer/Bi...   \n",
            "\n",
            "                 source_name            source_website  \n",
            "0  World Health Organization  https://covid19.who.int/  \n",
            "1  World Health Organization  https://covid19.who.int/  \n",
            "2  World Health Organization  https://covid19.who.int/  \n",
            "3  World Health Organization  https://covid19.who.int/  \n",
            "4  World Health Organization  https://covid19.who.int/  \n"
          ]
        }
      ]
    },
    {
      "cell_type": "markdown",
      "source": [
        "Se guardan los cuatro DataFrames creados (**conDiferencias, conCantidad, antes20, pfizer**) en un archivo de Excel, cada uno en una hoja diferente."
      ],
      "metadata": {
        "id": "SAuy9MXGptpc"
      }
    },
    {
      "cell_type": "code",
      "source": [
        "with pd.ExcelWriter('resultadosReto.xlsx') as writer:\n",
        "\n",
        "    conDiferencias.to_excel(writer, sheet_name='conDiferencias', index=False)\n",
        "    conCantidad.to_excel(writer, sheet_name='conCantidad', index=False)\n",
        "    antes20.to_excel(writer, sheet_name='antes20', index=False)\n",
        "    pfizer.to_excel(writer, sheet_name='pfizer', index=False)\n",
        "\n",
        "print(\"Archivo 'resultadosReto.xlsx' guardado exitosamente.\")\n"
      ],
      "metadata": {
        "colab": {
          "base_uri": "https://localhost:8080/"
        },
        "id": "yFwJl7Uu_xbJ",
        "outputId": "9cc00302-fdac-471a-e75f-62ddcf5e6eff"
      },
      "execution_count": 18,
      "outputs": [
        {
          "output_type": "stream",
          "name": "stdout",
          "text": [
            "Archivo 'resultadosReto.xlsx' guardado exitosamente.\n"
          ]
        }
      ]
    }
  ]
}